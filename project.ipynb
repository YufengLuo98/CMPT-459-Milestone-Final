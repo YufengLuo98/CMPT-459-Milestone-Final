{
 "cells": [
  {
   "cell_type": "code",
   "execution_count": 1,
   "metadata": {},
   "outputs": [],
   "source": [
    "import pandas as pd\n",
    "import numpy as np\n",
    "import matplotlib.pyplot as plt\n",
    "from sklearn.model_selection import KFold\n",
    "from sklearn.ensemble import RandomForestClassifier\n",
    "from sklearn.metrics import classification_report\n",
    "from sklearn.model_selection import train_test_split\n",
    "from sklearn.svm import SVC\n",
    "from sklearn.naive_bayes import CategoricalNB, GaussianNB"
   ]
  },
  {
   "cell_type": "code",
   "execution_count": 2,
   "metadata": {},
   "outputs": [],
   "source": [
    "train_data = pd.read_excel(\"data/cases_2021_train_processed.xlsx\")\n",
    "test_data = pd.read_excel(\"data/cases_2021_test_processed_unlabelled.xlsx\")"
   ]
  },
  {
   "cell_type": "markdown",
   "metadata": {},
   "source": [
    "# 1.2: Mapping the features\n",
    "\n",
    "1. Converted uneccesary float values to integer\n",
    "2. Categorical values that are binary in nature converted to 0's and 1's\n",
    "3. One-hot encoding done on 'province' and 'country'"
   ]
  },
  {
   "cell_type": "code",
   "execution_count": 3,
   "metadata": {},
   "outputs": [],
   "source": [
    "cols = ['age', 'Confirmed', 'Deaths', 'Recovered', 'Active']"
   ]
  },
  {
   "cell_type": "code",
   "execution_count": 4,
   "metadata": {},
   "outputs": [],
   "source": [
    "train_data[cols] = train_data[cols].apply(pd.to_numeric, downcast='integer', axis=1)\n",
    "test_data[cols] = test_data[cols].apply(pd.to_numeric, downcast='integer', axis=1)"
   ]
  },
  {
   "cell_type": "code",
   "execution_count": 5,
   "metadata": {},
   "outputs": [],
   "source": [
    "outcome_groups = {'deceased': 0, 'hospitalized': 1,'nonhospitalized': 2}\n",
    "sex = {'male': 0, 'female': 1}"
   ]
  },
  {
   "cell_type": "code",
   "execution_count": 6,
   "metadata": {},
   "outputs": [],
   "source": [
    "train_data['outcome_group'] = train_data['outcome_group'].map(outcome_groups)\n",
    "train_data['sex'] = train_data['sex'].map(sex)\n",
    "train_data['province'] = train_data['province'].fillna('Philippines')\n",
    "train_data['chronic_disease_binary'] = train_data['chronic_disease_binary'].astype(int)\n"
   ]
  },
  {
   "cell_type": "code",
   "execution_count": 7,
   "metadata": {},
   "outputs": [],
   "source": [
    "test_data['sex'] = test_data['sex'].map(sex)\n",
    "test_data['province'] = test_data['province'].fillna('Philippines')\n",
    "test_data['chronic_disease_binary'] = test_data['chronic_disease_binary'].astype(int)"
   ]
  },
  {
   "cell_type": "code",
   "execution_count": 8,
   "metadata": {},
   "outputs": [
    {
     "data": {
      "text/plain": [
       "1    13241\n",
       "2     2974\n",
       "0      997\n",
       "Name: outcome_group, dtype: int64"
      ]
     },
     "execution_count": 8,
     "metadata": {},
     "output_type": "execute_result"
    }
   ],
   "source": [
    "train_data['outcome_group'].value_counts()"
   ]
  },
  {
   "cell_type": "code",
   "execution_count": 9,
   "metadata": {},
   "outputs": [],
   "source": [
    "dummy_cols = ['province', 'country']\n",
    "train_data = pd.get_dummies(train_data, columns=dummy_cols)\n",
    "test_data = pd.get_dummies(test_data, columns=dummy_cols)"
   ]
  },
  {
   "cell_type": "code",
   "execution_count": 10,
   "metadata": {},
   "outputs": [],
   "source": [
    "train_data.drop(['date_confirmation'], axis=1, inplace=True)"
   ]
  },
  {
   "cell_type": "code",
   "execution_count": 11,
   "metadata": {},
   "outputs": [],
   "source": [
    "def printClassificationResults(model):\n",
    "    X = train_data.drop('outcome_group', axis=1)\n",
    "    y = train_data['outcome_group']\n",
    "    kfold = KFold(n_splits=5, shuffle=True, random_state=1)\n",
    "    all_labels = []\n",
    "    all_predictions = []\n",
    "    for train_index, test_index in kfold.split(X):\n",
    "        X_train, X_test = X.iloc[train_index], X.iloc[test_index]\n",
    "        y_train, y_test = y.iloc[train_index], y.iloc[test_index]\n",
    "\n",
    "        model.fit(X_train, y_train)\n",
    "        predictions = model.predict(X_test)\n",
    "\n",
    "        all_labels = all_labels + list(y_test)\n",
    "        all_predictions = all_predictions + list(predictions)\n",
    "\n",
    "    report = classification_report(all_labels, all_predictions)\n",
    "    print(report)"
   ]
  },
  {
   "cell_type": "code",
   "execution_count": 12,
   "metadata": {},
   "outputs": [
    {
     "name": "stdout",
     "output_type": "stream",
     "text": [
      "              precision    recall  f1-score   support\n",
      "\n",
      "           0       0.49      0.35      0.41       997\n",
      "           1       0.98      0.99      0.98     13241\n",
      "           2       0.85      0.88      0.86      2974\n",
      "\n",
      "    accuracy                           0.93     17212\n",
      "   macro avg       0.77      0.74      0.75     17212\n",
      "weighted avg       0.93      0.93      0.93     17212\n",
      "\n"
     ]
    }
   ],
   "source": [
    "# Testing Random Forest\n",
    "random_forest = RandomForestClassifier()\n",
    "printClassificationResults(random_forest)"
   ]
  },
  {
   "cell_type": "code",
   "execution_count": null,
   "metadata": {},
   "outputs": [],
   "source": []
  }
 ],
 "metadata": {
  "interpreter": {
   "hash": "3ff4c835d7956487bba13277bf340d67efa161ba50aa68448d8213de87c08323"
  },
  "kernelspec": {
   "display_name": "Python 3",
   "language": "python",
   "name": "python3"
  },
  "language_info": {
   "codemirror_mode": {
    "name": "ipython",
    "version": 3
   },
   "file_extension": ".py",
   "mimetype": "text/x-python",
   "name": "python",
   "nbconvert_exporter": "python",
   "pygments_lexer": "ipython3",
   "version": "3.7.6"
  }
 },
 "nbformat": 4,
 "nbformat_minor": 2
}
